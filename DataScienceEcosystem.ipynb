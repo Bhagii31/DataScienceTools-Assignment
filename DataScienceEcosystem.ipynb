{
 "cells": [
  {
   "cell_type": "markdown",
   "id": "62c7d65b",
   "metadata": {},
   "source": [
    "<h1> Data science Tools and Ecosystem</h1>"
   ]
  },
  {
   "cell_type": "markdown",
   "id": "e21392a9",
   "metadata": {},
   "source": [
    "In this notebook, Data Science Tools and Ecosystem are summarized."
   ]
  },
  {
   "cell_type": "markdown",
   "id": "970d6a8f",
   "metadata": {},
   "source": [
    "Some of the popular languages that Data Scientists use are:\n",
    "1) R\n",
    "2) Python\n",
    "3) julia"
   ]
  },
  {
   "cell_type": "markdown",
   "id": "bf1415d7",
   "metadata": {},
   "source": [
    "<b>Objectives:</b>\n",
    "<li>\n",
    "    <ul> List popular languages for Data Science </ul>\n",
    "    </li>\n",
    "    \n",
    "   <li><ul> List popular libraries of Data Science </ul></li>\n",
    "     <li><ul>Arthimetic Operations </ul></li>\n",
    "  \n",
    "    "
   ]
  },
  {
   "cell_type": "raw",
   "id": "542d576a",
   "metadata": {},
   "source": [
    "Some of the commonly used libraries used by Data Scientists include:\n",
    "1) pandas\n",
    "2) keras\n",
    "3) Scikit-Learn\n",
    "4) Numpy\n",
    "5) Matplotlib"
   ]
  },
  {
   "cell_type": "markdown",
   "id": "12b0b1da",
   "metadata": {},
   "source": [
    "<table style =\"width:35%\" border=50>\n",
    "    <tr>\n",
    "        <th> Data Science Tools </th>\n",
    "    </tr>\n",
    "      <tr>\n",
    "          <td> Rstudio </td>\n",
    "    </tr>\n",
    "    <tr>\n",
    "        <td> Apache Spark </td>\n",
    "    </tr>\n",
    "    <tr>\n",
    "        <td> Apache Hadoop </td>\n",
    "    </tr>\n",
    "    </table>\n",
    "            "
   ]
  },
  {
   "cell_type": "markdown",
   "id": "2ddef0c0",
   "metadata": {},
   "source": [
    "<h3> Below are a few examples of evaluating arithmetic expressions in Python</h3>"
   ]
  },
  {
   "cell_type": "code",
   "execution_count": 2,
   "id": "44b76bb1",
   "metadata": {},
   "outputs": [
    {
     "name": "stdout",
     "output_type": "stream",
     "text": [
      "17\n"
     ]
    }
   ],
   "source": [
    "print((3*4)+5)\n",
    "#This a simple arithmetic expression to mutiply then add integers"
   ]
  },
  {
   "cell_type": "code",
   "execution_count": 4,
   "id": "a8ddea0d",
   "metadata": {},
   "outputs": [
    {
     "name": "stdout",
     "output_type": "stream",
     "text": [
      "3\n"
     ]
    }
   ],
   "source": [
    "print(200//60)\n",
    "#This will convert 200 minutes to hours by diving by 60"
   ]
  },
  {
   "cell_type": "markdown",
   "id": "395d0c25",
   "metadata": {},
   "source": [
    "<h2> Author </h2>\n",
    "Bhargavi"
   ]
  },
  {
   "cell_type": "code",
   "execution_count": null,
   "id": "19bfbf93",
   "metadata": {},
   "outputs": [],
   "source": []
  }
 ],
 "metadata": {
  "kernelspec": {
   "display_name": "Python 3",
   "language": "python",
   "name": "python3"
  },
  "language_info": {
   "codemirror_mode": {
    "name": "ipython",
    "version": 3
   },
   "file_extension": ".py",
   "mimetype": "text/x-python",
   "name": "python",
   "nbconvert_exporter": "python",
   "pygments_lexer": "ipython3",
   "version": "3.8.8"
  }
 },
 "nbformat": 4,
 "nbformat_minor": 5
}
